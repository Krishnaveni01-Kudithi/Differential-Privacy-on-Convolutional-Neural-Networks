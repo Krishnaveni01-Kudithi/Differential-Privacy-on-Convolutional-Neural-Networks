{
  "nbformat": 4,
  "nbformat_minor": 0,
  "metadata": {
    "colab": {
      "provenance": []
    },
    "kernelspec": {
      "name": "python3",
      "display_name": "Python 3"
    },
    "language_info": {
      "name": "python"
    }
  },
  "cells": [
    {
      "cell_type": "code",
      "execution_count": 1,
      "metadata": {
        "colab": {
          "base_uri": "https://localhost:8080/"
        },
        "id": "OOCdOW2-wcEX",
        "outputId": "7730e388-75ec-4c5b-849b-feacc9f77b8a"
      },
      "outputs": [
        {
          "output_type": "stream",
          "name": "stdout",
          "text": [
            "Privacy budget using RDP: (epsilon=454871.7514591542, delta=1e-05)\n"
          ]
        }
      ],
      "source": [
        "import numpy as np\n",
        "from scipy.special import factorial\n",
        "from scipy.stats import laplace\n",
        "\n",
        "def renyi_divergence(p, q, alpha):\n",
        "    if alpha == 1:\n",
        "        return np.sum(p * np.log(p / q))\n",
        "    elif alpha == np.inf:\n",
        "        return np.max(np.abs(p - q))\n",
        "    else:\n",
        "        return 1 / (alpha - 1) * np.log(np.sum((p / q) ** (alpha - 1)))\n",
        "\n",
        "def compute_rdp(sigma, alpha, noise_multiplier, steps):\n",
        "    rdp = 0\n",
        "    for t in range(steps):\n",
        "        rdp += renyi_divergence(np.ones(1), np.exp(-alpha * noise_multiplier * sigma**2), alpha)\n",
        "    return rdp\n",
        "\n",
        "\n",
        "epsilon = 1.0\n",
        "delta = 1e-5\n",
        "alpha = 2.0\n",
        "sensitivity = 1.0\n",
        "\n",
        "\n",
        "sigma = sensitivity * np.sqrt(2 * np.log(1.25 / delta)) / epsilon\n",
        "\n",
        "\n",
        "steps = 1000\n",
        "noise_multiplier = sigma / sensitivity\n",
        "rdp = compute_rdp(sigma, alpha, noise_multiplier, steps)\n",
        "epsilon_rdp = alpha * rdp\n",
        "delta_rdp = delta\n",
        "\n",
        "print(f\"Privacy budget using RDP: (epsilon={epsilon_rdp}, delta={delta_rdp})\")\n"
      ]
    },
    {
      "cell_type": "code",
      "source": [],
      "metadata": {
        "id": "Vyi4I3OkwjFH"
      },
      "execution_count": null,
      "outputs": []
    }
  ]
}